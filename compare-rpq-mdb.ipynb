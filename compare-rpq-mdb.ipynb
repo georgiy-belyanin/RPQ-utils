{
 "cells": [
  {
   "cell_type": "code",
   "execution_count": 37,
   "id": "37659867",
   "metadata": {},
   "outputs": [],
   "source": [
    "import matplotlib.pyplot as plt\n",
    "import numpy as np\n",
    "import os\n",
    "\n",
    "QUERIES = 113\n",
    "\n",
    "RPQ_RESULTS_DIR = \"RPQ-Results/\"\n",
    "MDB_RESULTS_DIR = \"MDB-Results/\"\n",
    "\n",
    "mdb_results = {}\n",
    "rpq_results = {}"
   ]
  },
  {
   "cell_type": "code",
   "execution_count": 38,
   "id": "612900ec",
   "metadata": {},
   "outputs": [],
   "source": [
    "for entry in os.scandir(RPQ_RESULTS_DIR):\n",
    "    with open(entry.path, 'r') as f:\n",
    "        query = int(entry.name.split('.')[0])\n",
    "        for i in f:\n",
    "            time, answer = i.split()\n",
    "            if query not in rpq_results:\n",
    "                rpq_results[query] = []\n",
    "            rpq_results[query].append(int(time))\n",
    "            \n",
    "for entry in os.scandir(MDB_RESULTS_DIR):\n",
    "    with open(entry.path, 'r') as f:\n",
    "        query = int(entry.name.split('.')[0])\n",
    "        for i in f:\n",
    "            time = i\n",
    "            if query not in mdb_results:\n",
    "                mdb_results[query] = []\n",
    "            mdb_results[query].append(int(time))"
   ]
  },
  {
   "cell_type": "code",
   "execution_count": 40,
   "id": "627ba7c6",
   "metadata": {},
   "outputs": [
    {
     "name": "stdout",
     "output_type": "stream",
     "text": [
      "11\t1587652\t18573653\t11.7\n",
      "62\t126604\t940040\t7.4\n",
      "67\t124880\t272031\t2.2\n",
      "72\t35173\t52643\t1.5\n",
      "102\t28350\t41817\t1.5\n"
     ]
    }
   ],
   "source": [
    "# data = [v for k, v in rpq_results.items()][0::10]\n",
    "# fig = plt.figure(figsize =(10, 7))\n",
    "# # Creating plot\n",
    "# plt.boxplot(data)\n",
    " \n",
    "# plt.yscale('log')\n",
    "\n",
    "# # show plot\n",
    "# plt.show()\n",
    "\n",
    "for i in range(1, QUERIES + 1):\n",
    "    v1 = rpq_results[i]\n",
    "    v2 = mdb_results[i]\n",
    "    \n",
    "    m1 = sum(v1) / len(v1)\n",
    "    m2 = sum(v2) / len(v2)\n",
    "    \n",
    "    s = m2/m1\n",
    "    if s > 1.0:\n",
    "        print(f'{i}\\t{m1:.0f}\\t{m2:.0f}\\t{s:.1f}')"
   ]
  },
  {
   "cell_type": "code",
   "execution_count": null,
   "id": "601a737e",
   "metadata": {},
   "outputs": [],
   "source": []
  },
  {
   "cell_type": "code",
   "execution_count": null,
   "id": "717fe56a",
   "metadata": {},
   "outputs": [],
   "source": []
  },
  {
   "cell_type": "code",
   "execution_count": null,
   "id": "ac0e95b4",
   "metadata": {},
   "outputs": [],
   "source": []
  }
 ],
 "metadata": {
  "kernelspec": {
   "display_name": "Python 3 (ipykernel)",
   "language": "python",
   "name": "python3"
  },
  "language_info": {
   "codemirror_mode": {
    "name": "ipython",
    "version": 3
   },
   "file_extension": ".py",
   "mimetype": "text/x-python",
   "name": "python",
   "nbconvert_exporter": "python",
   "pygments_lexer": "ipython3",
   "version": "3.10.12"
  }
 },
 "nbformat": 4,
 "nbformat_minor": 5
}
